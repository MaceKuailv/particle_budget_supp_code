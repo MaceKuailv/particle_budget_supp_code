{
 "cells": [
  {
   "cell_type": "code",
   "execution_count": 1,
   "id": "f7d3279d-6dcb-4f51-9112-4c1403b2bfbe",
   "metadata": {},
   "outputs": [],
   "source": [
    "import xarray as xr\n",
    "import numpy as np\n",
    "import matplotlib.pyplot as plt"
   ]
  },
  {
   "cell_type": "code",
   "execution_count": 2,
   "id": "ea10ae92-e7c4-45fa-bfc9-9d1c1743b66d",
   "metadata": {},
   "outputs": [],
   "source": [
    "import xgcm"
   ]
  },
  {
   "cell_type": "code",
   "execution_count": 3,
   "id": "4e5f5ae2-5d42-4570-8bb4-d41922b517dd",
   "metadata": {},
   "outputs": [],
   "source": [
    "import seaduck.eulerian_budget as se"
   ]
  },
  {
   "cell_type": "code",
   "execution_count": 4,
   "id": "00bfdf5e-9150-4353-bab6-8ca87e47aefe",
   "metadata": {},
   "outputs": [],
   "source": [
    "import seaduck as sd"
   ]
  },
  {
   "cell_type": "code",
   "execution_count": 5,
   "id": "0e94fa0d-9f93-433c-a5f9-055f4f82d799",
   "metadata": {},
   "outputs": [],
   "source": [
    "ds = xr.open_zarr('/sciserver/filedb02-02/ocean/wenrui_temp/dic_exp/bgc_tutorial.zarr')"
   ]
  },
  {
   "cell_type": "code",
   "execution_count": 6,
   "id": "89d8ed7e-b5b9-4e5d-a628-1eaa193c2470",
   "metadata": {},
   "outputs": [
    {
     "data": {
      "text/plain": [
       "53.69088516"
      ]
     },
     "execution_count": 6,
     "metadata": {},
     "output_type": "execute_result"
    }
   ],
   "source": [
    "ds.nbytes/1e9"
   ]
  },
  {
   "cell_type": "code",
   "execution_count": 7,
   "id": "25d4c1c9-06f2-4725-9358-e4b20943d6b2",
   "metadata": {},
   "outputs": [],
   "source": [
    "# ds = ds.isel(time = slice(3),time_outer = slice(4))"
   ]
  },
  {
   "cell_type": "code",
   "execution_count": 8,
   "id": "247b0110-7565-46db-a559-c55581fa35b0",
   "metadata": {},
   "outputs": [
    {
     "data": {
      "text/html": [
       "<div><svg style=\"position: absolute; width: 0; height: 0; overflow: hidden\">\n",
       "<defs>\n",
       "<symbol id=\"icon-database\" viewBox=\"0 0 32 32\">\n",
       "<path d=\"M16 0c-8.837 0-16 2.239-16 5v4c0 2.761 7.163 5 16 5s16-2.239 16-5v-4c0-2.761-7.163-5-16-5z\"></path>\n",
       "<path d=\"M16 17c-8.837 0-16-2.239-16-5v6c0 2.761 7.163 5 16 5s16-2.239 16-5v-6c0 2.761-7.163 5-16 5z\"></path>\n",
       "<path d=\"M16 26c-8.837 0-16-2.239-16-5v6c0 2.761 7.163 5 16 5s16-2.239 16-5v-6c0 2.761-7.163 5-16 5z\"></path>\n",
       "</symbol>\n",
       "<symbol id=\"icon-file-text2\" viewBox=\"0 0 32 32\">\n",
       "<path d=\"M28.681 7.159c-0.694-0.947-1.662-2.053-2.724-3.116s-2.169-2.030-3.116-2.724c-1.612-1.182-2.393-1.319-2.841-1.319h-15.5c-1.378 0-2.5 1.121-2.5 2.5v27c0 1.378 1.122 2.5 2.5 2.5h23c1.378 0 2.5-1.122 2.5-2.5v-19.5c0-0.448-0.137-1.23-1.319-2.841zM24.543 5.457c0.959 0.959 1.712 1.825 2.268 2.543h-4.811v-4.811c0.718 0.556 1.584 1.309 2.543 2.268zM28 29.5c0 0.271-0.229 0.5-0.5 0.5h-23c-0.271 0-0.5-0.229-0.5-0.5v-27c0-0.271 0.229-0.5 0.5-0.5 0 0 15.499-0 15.5 0v7c0 0.552 0.448 1 1 1h7v19.5z\"></path>\n",
       "<path d=\"M23 26h-14c-0.552 0-1-0.448-1-1s0.448-1 1-1h14c0.552 0 1 0.448 1 1s-0.448 1-1 1z\"></path>\n",
       "<path d=\"M23 22h-14c-0.552 0-1-0.448-1-1s0.448-1 1-1h14c0.552 0 1 0.448 1 1s-0.448 1-1 1z\"></path>\n",
       "<path d=\"M23 18h-14c-0.552 0-1-0.448-1-1s0.448-1 1-1h14c0.552 0 1 0.448 1 1s-0.448 1-1 1z\"></path>\n",
       "</symbol>\n",
       "</defs>\n",
       "</svg>\n",
       "<style>/* CSS stylesheet for displaying xarray objects in jupyterlab.\n",
       " *\n",
       " */\n",
       "\n",
       ":root {\n",
       "  --xr-font-color0: var(--jp-content-font-color0, rgba(0, 0, 0, 1));\n",
       "  --xr-font-color2: var(--jp-content-font-color2, rgba(0, 0, 0, 0.54));\n",
       "  --xr-font-color3: var(--jp-content-font-color3, rgba(0, 0, 0, 0.38));\n",
       "  --xr-border-color: var(--jp-border-color2, #e0e0e0);\n",
       "  --xr-disabled-color: var(--jp-layout-color3, #bdbdbd);\n",
       "  --xr-background-color: var(--jp-layout-color0, white);\n",
       "  --xr-background-color-row-even: var(--jp-layout-color1, white);\n",
       "  --xr-background-color-row-odd: var(--jp-layout-color2, #eeeeee);\n",
       "}\n",
       "\n",
       "html[theme=dark],\n",
       "body[data-theme=dark],\n",
       "body.vscode-dark {\n",
       "  --xr-font-color0: rgba(255, 255, 255, 1);\n",
       "  --xr-font-color2: rgba(255, 255, 255, 0.54);\n",
       "  --xr-font-color3: rgba(255, 255, 255, 0.38);\n",
       "  --xr-border-color: #1F1F1F;\n",
       "  --xr-disabled-color: #515151;\n",
       "  --xr-background-color: #111111;\n",
       "  --xr-background-color-row-even: #111111;\n",
       "  --xr-background-color-row-odd: #313131;\n",
       "}\n",
       "\n",
       ".xr-wrap {\n",
       "  display: block !important;\n",
       "  min-width: 300px;\n",
       "  max-width: 700px;\n",
       "}\n",
       "\n",
       ".xr-text-repr-fallback {\n",
       "  /* fallback to plain text repr when CSS is not injected (untrusted notebook) */\n",
       "  display: none;\n",
       "}\n",
       "\n",
       ".xr-header {\n",
       "  padding-top: 6px;\n",
       "  padding-bottom: 6px;\n",
       "  margin-bottom: 4px;\n",
       "  border-bottom: solid 1px var(--xr-border-color);\n",
       "}\n",
       "\n",
       ".xr-header > div,\n",
       ".xr-header > ul {\n",
       "  display: inline;\n",
       "  margin-top: 0;\n",
       "  margin-bottom: 0;\n",
       "}\n",
       "\n",
       ".xr-obj-type,\n",
       ".xr-array-name {\n",
       "  margin-left: 2px;\n",
       "  margin-right: 10px;\n",
       "}\n",
       "\n",
       ".xr-obj-type {\n",
       "  color: var(--xr-font-color2);\n",
       "}\n",
       "\n",
       ".xr-sections {\n",
       "  padding-left: 0 !important;\n",
       "  display: grid;\n",
       "  grid-template-columns: 150px auto auto 1fr 20px 20px;\n",
       "}\n",
       "\n",
       ".xr-section-item {\n",
       "  display: contents;\n",
       "}\n",
       "\n",
       ".xr-section-item input {\n",
       "  display: none;\n",
       "}\n",
       "\n",
       ".xr-section-item input + label {\n",
       "  color: var(--xr-disabled-color);\n",
       "}\n",
       "\n",
       ".xr-section-item input:enabled + label {\n",
       "  cursor: pointer;\n",
       "  color: var(--xr-font-color2);\n",
       "}\n",
       "\n",
       ".xr-section-item input:enabled + label:hover {\n",
       "  color: var(--xr-font-color0);\n",
       "}\n",
       "\n",
       ".xr-section-summary {\n",
       "  grid-column: 1;\n",
       "  color: var(--xr-font-color2);\n",
       "  font-weight: 500;\n",
       "}\n",
       "\n",
       ".xr-section-summary > span {\n",
       "  display: inline-block;\n",
       "  padding-left: 0.5em;\n",
       "}\n",
       "\n",
       ".xr-section-summary-in:disabled + label {\n",
       "  color: var(--xr-font-color2);\n",
       "}\n",
       "\n",
       ".xr-section-summary-in + label:before {\n",
       "  display: inline-block;\n",
       "  content: '►';\n",
       "  font-size: 11px;\n",
       "  width: 15px;\n",
       "  text-align: center;\n",
       "}\n",
       "\n",
       ".xr-section-summary-in:disabled + label:before {\n",
       "  color: var(--xr-disabled-color);\n",
       "}\n",
       "\n",
       ".xr-section-summary-in:checked + label:before {\n",
       "  content: '▼';\n",
       "}\n",
       "\n",
       ".xr-section-summary-in:checked + label > span {\n",
       "  display: none;\n",
       "}\n",
       "\n",
       ".xr-section-summary,\n",
       ".xr-section-inline-details {\n",
       "  padding-top: 4px;\n",
       "  padding-bottom: 4px;\n",
       "}\n",
       "\n",
       ".xr-section-inline-details {\n",
       "  grid-column: 2 / -1;\n",
       "}\n",
       "\n",
       ".xr-section-details {\n",
       "  display: none;\n",
       "  grid-column: 1 / -1;\n",
       "  margin-bottom: 5px;\n",
       "}\n",
       "\n",
       ".xr-section-summary-in:checked ~ .xr-section-details {\n",
       "  display: contents;\n",
       "}\n",
       "\n",
       ".xr-array-wrap {\n",
       "  grid-column: 1 / -1;\n",
       "  display: grid;\n",
       "  grid-template-columns: 20px auto;\n",
       "}\n",
       "\n",
       ".xr-array-wrap > label {\n",
       "  grid-column: 1;\n",
       "  vertical-align: top;\n",
       "}\n",
       "\n",
       ".xr-preview {\n",
       "  color: var(--xr-font-color3);\n",
       "}\n",
       "\n",
       ".xr-array-preview,\n",
       ".xr-array-data {\n",
       "  padding: 0 5px !important;\n",
       "  grid-column: 2;\n",
       "}\n",
       "\n",
       ".xr-array-data,\n",
       ".xr-array-in:checked ~ .xr-array-preview {\n",
       "  display: none;\n",
       "}\n",
       "\n",
       ".xr-array-in:checked ~ .xr-array-data,\n",
       ".xr-array-preview {\n",
       "  display: inline-block;\n",
       "}\n",
       "\n",
       ".xr-dim-list {\n",
       "  display: inline-block !important;\n",
       "  list-style: none;\n",
       "  padding: 0 !important;\n",
       "  margin: 0;\n",
       "}\n",
       "\n",
       ".xr-dim-list li {\n",
       "  display: inline-block;\n",
       "  padding: 0;\n",
       "  margin: 0;\n",
       "}\n",
       "\n",
       ".xr-dim-list:before {\n",
       "  content: '(';\n",
       "}\n",
       "\n",
       ".xr-dim-list:after {\n",
       "  content: ')';\n",
       "}\n",
       "\n",
       ".xr-dim-list li:not(:last-child):after {\n",
       "  content: ',';\n",
       "  padding-right: 5px;\n",
       "}\n",
       "\n",
       ".xr-has-index {\n",
       "  font-weight: bold;\n",
       "}\n",
       "\n",
       ".xr-var-list,\n",
       ".xr-var-item {\n",
       "  display: contents;\n",
       "}\n",
       "\n",
       ".xr-var-item > div,\n",
       ".xr-var-item label,\n",
       ".xr-var-item > .xr-var-name span {\n",
       "  background-color: var(--xr-background-color-row-even);\n",
       "  margin-bottom: 0;\n",
       "}\n",
       "\n",
       ".xr-var-item > .xr-var-name:hover span {\n",
       "  padding-right: 5px;\n",
       "}\n",
       "\n",
       ".xr-var-list > li:nth-child(odd) > div,\n",
       ".xr-var-list > li:nth-child(odd) > label,\n",
       ".xr-var-list > li:nth-child(odd) > .xr-var-name span {\n",
       "  background-color: var(--xr-background-color-row-odd);\n",
       "}\n",
       "\n",
       ".xr-var-name {\n",
       "  grid-column: 1;\n",
       "}\n",
       "\n",
       ".xr-var-dims {\n",
       "  grid-column: 2;\n",
       "}\n",
       "\n",
       ".xr-var-dtype {\n",
       "  grid-column: 3;\n",
       "  text-align: right;\n",
       "  color: var(--xr-font-color2);\n",
       "}\n",
       "\n",
       ".xr-var-preview {\n",
       "  grid-column: 4;\n",
       "}\n",
       "\n",
       ".xr-index-preview {\n",
       "  grid-column: 2 / 5;\n",
       "  color: var(--xr-font-color2);\n",
       "}\n",
       "\n",
       ".xr-var-name,\n",
       ".xr-var-dims,\n",
       ".xr-var-dtype,\n",
       ".xr-preview,\n",
       ".xr-attrs dt {\n",
       "  white-space: nowrap;\n",
       "  overflow: hidden;\n",
       "  text-overflow: ellipsis;\n",
       "  padding-right: 10px;\n",
       "}\n",
       "\n",
       ".xr-var-name:hover,\n",
       ".xr-var-dims:hover,\n",
       ".xr-var-dtype:hover,\n",
       ".xr-attrs dt:hover {\n",
       "  overflow: visible;\n",
       "  width: auto;\n",
       "  z-index: 1;\n",
       "}\n",
       "\n",
       ".xr-var-attrs,\n",
       ".xr-var-data,\n",
       ".xr-index-data {\n",
       "  display: none;\n",
       "  background-color: var(--xr-background-color) !important;\n",
       "  padding-bottom: 5px !important;\n",
       "}\n",
       "\n",
       ".xr-var-attrs-in:checked ~ .xr-var-attrs,\n",
       ".xr-var-data-in:checked ~ .xr-var-data,\n",
       ".xr-index-data-in:checked ~ .xr-index-data {\n",
       "  display: block;\n",
       "}\n",
       "\n",
       ".xr-var-data > table {\n",
       "  float: right;\n",
       "}\n",
       "\n",
       ".xr-var-name span,\n",
       ".xr-var-data,\n",
       ".xr-index-name div,\n",
       ".xr-index-data,\n",
       ".xr-attrs {\n",
       "  padding-left: 25px !important;\n",
       "}\n",
       "\n",
       ".xr-attrs,\n",
       ".xr-var-attrs,\n",
       ".xr-var-data,\n",
       ".xr-index-data {\n",
       "  grid-column: 1 / -1;\n",
       "}\n",
       "\n",
       "dl.xr-attrs {\n",
       "  padding: 0;\n",
       "  margin: 0;\n",
       "  display: grid;\n",
       "  grid-template-columns: 125px auto;\n",
       "}\n",
       "\n",
       ".xr-attrs dt,\n",
       ".xr-attrs dd {\n",
       "  padding: 0;\n",
       "  margin: 0;\n",
       "  float: left;\n",
       "  padding-right: 10px;\n",
       "  width: auto;\n",
       "}\n",
       "\n",
       ".xr-attrs dt {\n",
       "  font-weight: normal;\n",
       "  grid-column: 1;\n",
       "}\n",
       "\n",
       ".xr-attrs dt:hover span {\n",
       "  display: inline-block;\n",
       "  background: var(--xr-background-color);\n",
       "  padding-right: 10px;\n",
       "}\n",
       "\n",
       ".xr-attrs dd {\n",
       "  grid-column: 2;\n",
       "  white-space: pre-wrap;\n",
       "  word-break: break-all;\n",
       "}\n",
       "\n",
       ".xr-icon-database,\n",
       ".xr-icon-file-text2,\n",
       ".xr-no-icon {\n",
       "  display: inline-block;\n",
       "  vertical-align: middle;\n",
       "  width: 1em;\n",
       "  height: 1.5em !important;\n",
       "  stroke-width: 0;\n",
       "  stroke: currentColor;\n",
       "  fill: currentColor;\n",
       "}\n",
       "</style><pre class='xr-text-repr-fallback'>&lt;xarray.DataArray &#x27;DICPFLX&#x27; (time: 3000, Z: 15, Y: 64, X: 128)&gt;\n",
       "dask.array&lt;open_dataset-DICPFLX, shape=(3000, 15, 64, 128), dtype=float32, chunksize=(20, 15, 64, 128), chunktype=numpy.ndarray&gt;\n",
       "Coordinates:\n",
       "  * X        (X) float64 1.406 4.219 7.031 9.844 ... 350.2 353.0 355.8 358.6\n",
       "  * Y        (Y) float64 -88.59 -85.78 -82.97 -80.16 ... 80.16 82.97 85.78 88.59\n",
       "  * Z        (Z) float64 -25.0 -85.0 -170.0 ... -3.575e+03 -4.19e+03 -4.855e+03\n",
       "  * time     (time) float64 2.239e+11 2.239e+11 2.24e+11 ... 2.252e+11 2.252e+11\n",
       "Attributes:\n",
       "    description:  User-Defined Model-Level Diagnostic  #1\n",
       "    units:        user-defined</pre><div class='xr-wrap' style='display:none'><div class='xr-header'><div class='xr-obj-type'>xarray.DataArray</div><div class='xr-array-name'>'DICPFLX'</div><ul class='xr-dim-list'><li><span class='xr-has-index'>time</span>: 3000</li><li><span class='xr-has-index'>Z</span>: 15</li><li><span class='xr-has-index'>Y</span>: 64</li><li><span class='xr-has-index'>X</span>: 128</li></ul></div><ul class='xr-sections'><li class='xr-section-item'><div class='xr-array-wrap'><input id='section-5bccc61c-ea52-4969-8dbb-a36f85cfbab6' class='xr-array-in' type='checkbox' checked><label for='section-5bccc61c-ea52-4969-8dbb-a36f85cfbab6' title='Show/hide data repr'><svg class='icon xr-icon-database'><use xlink:href='#icon-database'></use></svg></label><div class='xr-array-preview xr-preview'><span>dask.array&lt;chunksize=(20, 15, 64, 128), meta=np.ndarray&gt;</span></div><div class='xr-array-data'><table>\n",
       "    <tr>\n",
       "        <td>\n",
       "            <table style=\"border-collapse: collapse;\">\n",
       "                <thead>\n",
       "                    <tr>\n",
       "                        <td> </td>\n",
       "                        <th> Array </th>\n",
       "                        <th> Chunk </th>\n",
       "                    </tr>\n",
       "                </thead>\n",
       "                <tbody>\n",
       "                    \n",
       "                    <tr>\n",
       "                        <th> Bytes </th>\n",
       "                        <td> 1.37 GiB </td>\n",
       "                        <td> 9.38 MiB </td>\n",
       "                    </tr>\n",
       "                    \n",
       "                    <tr>\n",
       "                        <th> Shape </th>\n",
       "                        <td> (3000, 15, 64, 128) </td>\n",
       "                        <td> (20, 15, 64, 128) </td>\n",
       "                    </tr>\n",
       "                    <tr>\n",
       "                        <th> Dask graph </th>\n",
       "                        <td colspan=\"2\"> 150 chunks in 2 graph layers </td>\n",
       "                    </tr>\n",
       "                    <tr>\n",
       "                        <th> Data type </th>\n",
       "                        <td colspan=\"2\"> float32 numpy.ndarray </td>\n",
       "                    </tr>\n",
       "                </tbody>\n",
       "            </table>\n",
       "        </td>\n",
       "        <td>\n",
       "        <svg width=\"478\" height=\"94\" style=\"stroke:rgb(0,0,0);stroke-width:1\" >\n",
       "\n",
       "  <!-- Horizontal lines -->\n",
       "  <line x1=\"0\" y1=\"0\" x2=\"120\" y2=\"0\" style=\"stroke-width:2\" />\n",
       "  <line x1=\"0\" y1=\"25\" x2=\"120\" y2=\"25\" style=\"stroke-width:2\" />\n",
       "\n",
       "  <!-- Vertical lines -->\n",
       "  <line x1=\"0\" y1=\"0\" x2=\"0\" y2=\"25\" style=\"stroke-width:2\" />\n",
       "  <line x1=\"3\" y1=\"0\" x2=\"3\" y2=\"25\" />\n",
       "  <line x1=\"7\" y1=\"0\" x2=\"7\" y2=\"25\" />\n",
       "  <line x1=\"11\" y1=\"0\" x2=\"11\" y2=\"25\" />\n",
       "  <line x1=\"14\" y1=\"0\" x2=\"14\" y2=\"25\" />\n",
       "  <line x1=\"18\" y1=\"0\" x2=\"18\" y2=\"25\" />\n",
       "  <line x1=\"22\" y1=\"0\" x2=\"22\" y2=\"25\" />\n",
       "  <line x1=\"25\" y1=\"0\" x2=\"25\" y2=\"25\" />\n",
       "  <line x1=\"29\" y1=\"0\" x2=\"29\" y2=\"25\" />\n",
       "  <line x1=\"33\" y1=\"0\" x2=\"33\" y2=\"25\" />\n",
       "  <line x1=\"36\" y1=\"0\" x2=\"36\" y2=\"25\" />\n",
       "  <line x1=\"40\" y1=\"0\" x2=\"40\" y2=\"25\" />\n",
       "  <line x1=\"44\" y1=\"0\" x2=\"44\" y2=\"25\" />\n",
       "  <line x1=\"48\" y1=\"0\" x2=\"48\" y2=\"25\" />\n",
       "  <line x1=\"52\" y1=\"0\" x2=\"52\" y2=\"25\" />\n",
       "  <line x1=\"56\" y1=\"0\" x2=\"56\" y2=\"25\" />\n",
       "  <line x1=\"60\" y1=\"0\" x2=\"60\" y2=\"25\" />\n",
       "  <line x1=\"63\" y1=\"0\" x2=\"63\" y2=\"25\" />\n",
       "  <line x1=\"67\" y1=\"0\" x2=\"67\" y2=\"25\" />\n",
       "  <line x1=\"71\" y1=\"0\" x2=\"71\" y2=\"25\" />\n",
       "  <line x1=\"74\" y1=\"0\" x2=\"74\" y2=\"25\" />\n",
       "  <line x1=\"78\" y1=\"0\" x2=\"78\" y2=\"25\" />\n",
       "  <line x1=\"82\" y1=\"0\" x2=\"82\" y2=\"25\" />\n",
       "  <line x1=\"85\" y1=\"0\" x2=\"85\" y2=\"25\" />\n",
       "  <line x1=\"89\" y1=\"0\" x2=\"89\" y2=\"25\" />\n",
       "  <line x1=\"93\" y1=\"0\" x2=\"93\" y2=\"25\" />\n",
       "  <line x1=\"96\" y1=\"0\" x2=\"96\" y2=\"25\" />\n",
       "  <line x1=\"100\" y1=\"0\" x2=\"100\" y2=\"25\" />\n",
       "  <line x1=\"104\" y1=\"0\" x2=\"104\" y2=\"25\" />\n",
       "  <line x1=\"108\" y1=\"0\" x2=\"108\" y2=\"25\" />\n",
       "  <line x1=\"112\" y1=\"0\" x2=\"112\" y2=\"25\" />\n",
       "  <line x1=\"116\" y1=\"0\" x2=\"116\" y2=\"25\" />\n",
       "  <line x1=\"120\" y1=\"0\" x2=\"120\" y2=\"25\" style=\"stroke-width:2\" />\n",
       "\n",
       "  <!-- Colored Rectangle -->\n",
       "  <polygon points=\"0.0,0.0 120.0,0.0 120.0,25.412616514582485 0.0,25.412616514582485\" style=\"fill:#8B4903A0;stroke-width:0\"/>\n",
       "\n",
       "  <!-- Text -->\n",
       "  <text x=\"60.000000\" y=\"45.412617\" font-size=\"1.0rem\" font-weight=\"100\" text-anchor=\"middle\" >3000</text>\n",
       "  <text x=\"140.000000\" y=\"12.706308\" font-size=\"1.0rem\" font-weight=\"100\" text-anchor=\"middle\" transform=\"rotate(0,140.000000,12.706308)\">1</text>\n",
       "\n",
       "\n",
       "  <!-- Horizontal lines -->\n",
       "  <line x1=\"190\" y1=\"0\" x2=\"204\" y2=\"14\" style=\"stroke-width:2\" />\n",
       "  <line x1=\"190\" y1=\"29\" x2=\"204\" y2=\"44\" style=\"stroke-width:2\" />\n",
       "\n",
       "  <!-- Vertical lines -->\n",
       "  <line x1=\"190\" y1=\"0\" x2=\"190\" y2=\"29\" style=\"stroke-width:2\" />\n",
       "  <line x1=\"204\" y1=\"14\" x2=\"204\" y2=\"44\" style=\"stroke-width:2\" />\n",
       "\n",
       "  <!-- Colored Rectangle -->\n",
       "  <polygon points=\"190.0,0.0 204.9485979497544,14.948597949754403 204.9485979497544,44.344600980275224 190.0,29.39600303052082\" style=\"fill:#ECB172A0;stroke-width:0\"/>\n",
       "\n",
       "  <!-- Horizontal lines -->\n",
       "  <line x1=\"190\" y1=\"0\" x2=\"223\" y2=\"0\" style=\"stroke-width:2\" />\n",
       "  <line x1=\"204\" y1=\"14\" x2=\"238\" y2=\"14\" style=\"stroke-width:2\" />\n",
       "\n",
       "  <!-- Vertical lines -->\n",
       "  <line x1=\"190\" y1=\"0\" x2=\"204\" y2=\"14\" style=\"stroke-width:2\" />\n",
       "  <line x1=\"223\" y1=\"0\" x2=\"238\" y2=\"14\" style=\"stroke-width:2\" />\n",
       "\n",
       "  <!-- Colored Rectangle -->\n",
       "  <polygon points=\"190.0,0.0 223.5289671148944,0.0 238.47756506464881,14.948597949754403 204.9485979497544,14.948597949754403\" style=\"fill:#ECB172A0;stroke-width:0\"/>\n",
       "\n",
       "  <!-- Horizontal lines -->\n",
       "  <line x1=\"204\" y1=\"14\" x2=\"238\" y2=\"14\" style=\"stroke-width:2\" />\n",
       "  <line x1=\"204\" y1=\"44\" x2=\"238\" y2=\"44\" style=\"stroke-width:2\" />\n",
       "\n",
       "  <!-- Vertical lines -->\n",
       "  <line x1=\"204\" y1=\"14\" x2=\"204\" y2=\"44\" style=\"stroke-width:2\" />\n",
       "  <line x1=\"238\" y1=\"14\" x2=\"238\" y2=\"44\" style=\"stroke-width:2\" />\n",
       "\n",
       "  <!-- Colored Rectangle -->\n",
       "  <polygon points=\"204.9485979497544,14.948597949754403 238.47756506464881,14.948597949754403 238.47756506464881,44.344600980275224 204.9485979497544,44.344600980275224\" style=\"fill:#ECB172A0;stroke-width:0\"/>\n",
       "\n",
       "  <!-- Text -->\n",
       "  <text x=\"221.713082\" y=\"64.344601\" font-size=\"1.0rem\" font-weight=\"100\" text-anchor=\"middle\" >128</text>\n",
       "  <text x=\"258.477565\" y=\"29.646599\" font-size=\"1.0rem\" font-weight=\"100\" text-anchor=\"middle\" transform=\"rotate(0,258.477565,29.646599)\">64</text>\n",
       "  <text x=\"187.474299\" y=\"56.870302\" font-size=\"1.0rem\" font-weight=\"100\" text-anchor=\"middle\" transform=\"rotate(45,187.474299,56.870302)\">15</text>\n",
       "</svg>\n",
       "        </td>\n",
       "    </tr>\n",
       "</table></div></div></li><li class='xr-section-item'><input id='section-f717d563-83b5-44ad-b6dc-4f3f542d2dd0' class='xr-section-summary-in' type='checkbox'  checked><label for='section-f717d563-83b5-44ad-b6dc-4f3f542d2dd0' class='xr-section-summary' >Coordinates: <span>(4)</span></label><div class='xr-section-inline-details'></div><div class='xr-section-details'><ul class='xr-var-list'><li class='xr-var-item'><div class='xr-var-name'><span class='xr-has-index'>X</span></div><div class='xr-var-dims'>(X)</div><div class='xr-var-dtype'>float64</div><div class='xr-var-preview xr-preview'>1.406 4.219 7.031 ... 355.8 358.6</div><input id='attrs-fb28f009-4221-4f2f-ae05-66a3033ed441' class='xr-var-attrs-in' type='checkbox' ><label for='attrs-fb28f009-4221-4f2f-ae05-66a3033ed441' title='Show/Hide attributes'><svg class='icon xr-icon-file-text2'><use xlink:href='#icon-file-text2'></use></svg></label><input id='data-15a2776e-7b3c-4e89-9119-c2ca1a387dae' class='xr-var-data-in' type='checkbox'><label for='data-15a2776e-7b3c-4e89-9119-c2ca1a387dae' title='Show/Hide data repr'><svg class='icon xr-icon-database'><use xlink:href='#icon-database'></use></svg></label><div class='xr-var-attrs'><dl class='xr-attrs'><dt><span>long_name :</span></dt><dd>longitude of cell center</dd><dt><span>units :</span></dt><dd>degrees_east</dd></dl></div><div class='xr-var-data'><pre>array([  1.40625,   4.21875,   7.03125,   9.84375,  12.65625,  15.46875,\n",
       "        18.28125,  21.09375,  23.90625,  26.71875,  29.53125,  32.34375,\n",
       "        35.15625,  37.96875,  40.78125,  43.59375,  46.40625,  49.21875,\n",
       "        52.03125,  54.84375,  57.65625,  60.46875,  63.28125,  66.09375,\n",
       "        68.90625,  71.71875,  74.53125,  77.34375,  80.15625,  82.96875,\n",
       "        85.78125,  88.59375,  91.40625,  94.21875,  97.03125,  99.84375,\n",
       "       102.65625, 105.46875, 108.28125, 111.09375, 113.90625, 116.71875,\n",
       "       119.53125, 122.34375, 125.15625, 127.96875, 130.78125, 133.59375,\n",
       "       136.40625, 139.21875, 142.03125, 144.84375, 147.65625, 150.46875,\n",
       "       153.28125, 156.09375, 158.90625, 161.71875, 164.53125, 167.34375,\n",
       "       170.15625, 172.96875, 175.78125, 178.59375, 181.40625, 184.21875,\n",
       "       187.03125, 189.84375, 192.65625, 195.46875, 198.28125, 201.09375,\n",
       "       203.90625, 206.71875, 209.53125, 212.34375, 215.15625, 217.96875,\n",
       "       220.78125, 223.59375, 226.40625, 229.21875, 232.03125, 234.84375,\n",
       "       237.65625, 240.46875, 243.28125, 246.09375, 248.90625, 251.71875,\n",
       "       254.53125, 257.34375, 260.15625, 262.96875, 265.78125, 268.59375,\n",
       "       271.40625, 274.21875, 277.03125, 279.84375, 282.65625, 285.46875,\n",
       "       288.28125, 291.09375, 293.90625, 296.71875, 299.53125, 302.34375,\n",
       "       305.15625, 307.96875, 310.78125, 313.59375, 316.40625, 319.21875,\n",
       "       322.03125, 324.84375, 327.65625, 330.46875, 333.28125, 336.09375,\n",
       "       338.90625, 341.71875, 344.53125, 347.34375, 350.15625, 352.96875,\n",
       "       355.78125, 358.59375])</pre></div></li><li class='xr-var-item'><div class='xr-var-name'><span class='xr-has-index'>Y</span></div><div class='xr-var-dims'>(Y)</div><div class='xr-var-dtype'>float64</div><div class='xr-var-preview xr-preview'>-88.59 -85.78 ... 85.78 88.59</div><input id='attrs-53119789-cd3d-4333-ae4e-4565c2de7599' class='xr-var-attrs-in' type='checkbox' ><label for='attrs-53119789-cd3d-4333-ae4e-4565c2de7599' title='Show/Hide attributes'><svg class='icon xr-icon-file-text2'><use xlink:href='#icon-file-text2'></use></svg></label><input id='data-4108616c-320c-4931-917d-84d487492cd7' class='xr-var-data-in' type='checkbox'><label for='data-4108616c-320c-4931-917d-84d487492cd7' title='Show/Hide data repr'><svg class='icon xr-icon-database'><use xlink:href='#icon-database'></use></svg></label><div class='xr-var-attrs'><dl class='xr-attrs'><dt><span>long_name :</span></dt><dd>latitude of cell center</dd><dt><span>units :</span></dt><dd>degrees_north</dd></dl></div><div class='xr-var-data'><pre>array([-88.59375, -85.78125, -82.96875, -80.15625, -77.34375, -74.53125,\n",
       "       -71.71875, -68.90625, -66.09375, -63.28125, -60.46875, -57.65625,\n",
       "       -54.84375, -52.03125, -49.21875, -46.40625, -43.59375, -40.78125,\n",
       "       -37.96875, -35.15625, -32.34375, -29.53125, -26.71875, -23.90625,\n",
       "       -21.09375, -18.28125, -15.46875, -12.65625,  -9.84375,  -7.03125,\n",
       "        -4.21875,  -1.40625,   1.40625,   4.21875,   7.03125,   9.84375,\n",
       "        12.65625,  15.46875,  18.28125,  21.09375,  23.90625,  26.71875,\n",
       "        29.53125,  32.34375,  35.15625,  37.96875,  40.78125,  43.59375,\n",
       "        46.40625,  49.21875,  52.03125,  54.84375,  57.65625,  60.46875,\n",
       "        63.28125,  66.09375,  68.90625,  71.71875,  74.53125,  77.34375,\n",
       "        80.15625,  82.96875,  85.78125,  88.59375])</pre></div></li><li class='xr-var-item'><div class='xr-var-name'><span class='xr-has-index'>Z</span></div><div class='xr-var-dims'>(Z)</div><div class='xr-var-dtype'>float64</div><div class='xr-var-preview xr-preview'>-25.0 -85.0 ... -4.855e+03</div><input id='attrs-129a96ac-f4ed-45bd-bb24-46cfdca5b9d1' class='xr-var-attrs-in' type='checkbox' ><label for='attrs-129a96ac-f4ed-45bd-bb24-46cfdca5b9d1' title='Show/Hide attributes'><svg class='icon xr-icon-file-text2'><use xlink:href='#icon-file-text2'></use></svg></label><input id='data-91837e2b-748b-4ebc-b6bb-d5c81ff8b08a' class='xr-var-data-in' type='checkbox'><label for='data-91837e2b-748b-4ebc-b6bb-d5c81ff8b08a' title='Show/Hide data repr'><svg class='icon xr-icon-database'><use xlink:href='#icon-database'></use></svg></label><div class='xr-var-attrs'><dl class='xr-attrs'><dt><span>long_name :</span></dt><dd>vertical coordinate of cell center</dd><dt><span>positive :</span></dt><dd>up</dd><dt><span>units :</span></dt><dd>meters</dd></dl></div><div class='xr-var-data'><pre>array([  -25.,   -85.,  -170.,  -290.,  -455.,  -670.,  -935., -1250., -1615.,\n",
       "       -2030., -2495., -3010., -3575., -4190., -4855.])</pre></div></li><li class='xr-var-item'><div class='xr-var-name'><span class='xr-has-index'>time</span></div><div class='xr-var-dims'>(time)</div><div class='xr-var-dtype'>float64</div><div class='xr-var-preview xr-preview'>2.239e+11 2.239e+11 ... 2.252e+11</div><input id='attrs-d7e7e5bd-7614-448d-ac2b-31e437473932' class='xr-var-attrs-in' type='checkbox' ><label for='attrs-d7e7e5bd-7614-448d-ac2b-31e437473932' title='Show/Hide attributes'><svg class='icon xr-icon-file-text2'><use xlink:href='#icon-file-text2'></use></svg></label><input id='data-46155b31-b8dc-4e5b-8ae2-487a023c6f93' class='xr-var-data-in' type='checkbox'><label for='data-46155b31-b8dc-4e5b-8ae2-487a023c6f93' title='Show/Hide data repr'><svg class='icon xr-icon-database'><use xlink:href='#icon-database'></use></svg></label><div class='xr-var-attrs'><dl class='xr-attrs'><dt><span>long_name :</span></dt><dd>model_time</dd><dt><span>units :</span></dt><dd>s</dd></dl></div><div class='xr-var-data'><pre>array([2.239492e+11, 2.239497e+11, 2.239501e+11, ..., 2.252439e+11,\n",
       "       2.252444e+11, 2.252448e+11])</pre></div></li></ul></div></li><li class='xr-section-item'><input id='section-742a9936-ede5-443b-9ea2-abe73c508660' class='xr-section-summary-in' type='checkbox'  ><label for='section-742a9936-ede5-443b-9ea2-abe73c508660' class='xr-section-summary' >Indexes: <span>(4)</span></label><div class='xr-section-inline-details'></div><div class='xr-section-details'><ul class='xr-var-list'><li class='xr-var-item'><div class='xr-index-name'><div>X</div></div><div class='xr-index-preview'>PandasIndex</div><div></div><input id='index-d064d0e2-4857-4fca-aeb6-10c0f728f1ca' class='xr-index-data-in' type='checkbox'/><label for='index-d064d0e2-4857-4fca-aeb6-10c0f728f1ca' title='Show/Hide index repr'><svg class='icon xr-icon-database'><use xlink:href='#icon-database'></use></svg></label><div class='xr-index-data'><pre>PandasIndex(Index([  1.40625,   4.21875,   7.03125,   9.84375,  12.65625,  15.46875,\n",
       "        18.28125,  21.09375,  23.90625,  26.71875,\n",
       "       ...\n",
       "       333.28125, 336.09375, 338.90625, 341.71875, 344.53125, 347.34375,\n",
       "       350.15625, 352.96875, 355.78125, 358.59375],\n",
       "      dtype=&#x27;float64&#x27;, name=&#x27;X&#x27;, length=128))</pre></div></li><li class='xr-var-item'><div class='xr-index-name'><div>Y</div></div><div class='xr-index-preview'>PandasIndex</div><div></div><input id='index-890d45d3-4214-4631-80b0-178b1124b2fa' class='xr-index-data-in' type='checkbox'/><label for='index-890d45d3-4214-4631-80b0-178b1124b2fa' title='Show/Hide index repr'><svg class='icon xr-icon-database'><use xlink:href='#icon-database'></use></svg></label><div class='xr-index-data'><pre>PandasIndex(Index([-88.59375, -85.78125, -82.96875, -80.15625, -77.34375, -74.53125,\n",
       "       -71.71875, -68.90625, -66.09375, -63.28125, -60.46875, -57.65625,\n",
       "       -54.84375, -52.03125, -49.21875, -46.40625, -43.59375, -40.78125,\n",
       "       -37.96875, -35.15625, -32.34375, -29.53125, -26.71875, -23.90625,\n",
       "       -21.09375, -18.28125, -15.46875, -12.65625,  -9.84375,  -7.03125,\n",
       "        -4.21875,  -1.40625,   1.40625,   4.21875,   7.03125,   9.84375,\n",
       "        12.65625,  15.46875,  18.28125,  21.09375,  23.90625,  26.71875,\n",
       "        29.53125,  32.34375,  35.15625,  37.96875,  40.78125,  43.59375,\n",
       "        46.40625,  49.21875,  52.03125,  54.84375,  57.65625,  60.46875,\n",
       "        63.28125,  66.09375,  68.90625,  71.71875,  74.53125,  77.34375,\n",
       "        80.15625,  82.96875,  85.78125,  88.59375],\n",
       "      dtype=&#x27;float64&#x27;, name=&#x27;Y&#x27;))</pre></div></li><li class='xr-var-item'><div class='xr-index-name'><div>Z</div></div><div class='xr-index-preview'>PandasIndex</div><div></div><input id='index-23dba363-69f5-4785-9250-d2bbde4e22e9' class='xr-index-data-in' type='checkbox'/><label for='index-23dba363-69f5-4785-9250-d2bbde4e22e9' title='Show/Hide index repr'><svg class='icon xr-icon-database'><use xlink:href='#icon-database'></use></svg></label><div class='xr-index-data'><pre>PandasIndex(Index([  -25.0,   -85.0,  -170.0,  -290.0,  -455.0,  -670.0,  -935.0, -1250.0,\n",
       "       -1615.0, -2030.0, -2495.0, -3010.0, -3575.0, -4190.0, -4855.0],\n",
       "      dtype=&#x27;float64&#x27;, name=&#x27;Z&#x27;))</pre></div></li><li class='xr-var-item'><div class='xr-index-name'><div>time</div></div><div class='xr-index-preview'>PandasIndex</div><div></div><input id='index-72294518-560c-4bb0-8d11-9806fba8821f' class='xr-index-data-in' type='checkbox'/><label for='index-72294518-560c-4bb0-8d11-9806fba8821f' title='Show/Hide index repr'><svg class='icon xr-icon-database'><use xlink:href='#icon-database'></use></svg></label><div class='xr-index-data'><pre>PandasIndex(Index([223949232000.0, 223949664000.0, 223950096000.0, 223950528000.0,\n",
       "       223950960000.0, 223951392000.0, 223951824000.0, 223952256000.0,\n",
       "       223952688000.0, 223953120000.0,\n",
       "       ...\n",
       "       225240912000.0, 225241344000.0, 225241776000.0, 225242208000.0,\n",
       "       225242640000.0, 225243072000.0, 225243504000.0, 225243936000.0,\n",
       "       225244368000.0, 225244800000.0],\n",
       "      dtype=&#x27;float64&#x27;, name=&#x27;time&#x27;, length=3000))</pre></div></li></ul></div></li><li class='xr-section-item'><input id='section-56b1b19a-3c3b-48ed-9db1-f58cd5184128' class='xr-section-summary-in' type='checkbox'  checked><label for='section-56b1b19a-3c3b-48ed-9db1-f58cd5184128' class='xr-section-summary' >Attributes: <span>(2)</span></label><div class='xr-section-inline-details'></div><div class='xr-section-details'><dl class='xr-attrs'><dt><span>description :</span></dt><dd>User-Defined Model-Level Diagnostic  #1</dd><dt><span>units :</span></dt><dd>user-defined</dd></dl></div></li></ul></div></div>"
      ],
      "text/plain": [
       "<xarray.DataArray 'DICPFLX' (time: 3000, Z: 15, Y: 64, X: 128)>\n",
       "dask.array<open_dataset-DICPFLX, shape=(3000, 15, 64, 128), dtype=float32, chunksize=(20, 15, 64, 128), chunktype=numpy.ndarray>\n",
       "Coordinates:\n",
       "  * X        (X) float64 1.406 4.219 7.031 9.844 ... 350.2 353.0 355.8 358.6\n",
       "  * Y        (Y) float64 -88.59 -85.78 -82.97 -80.16 ... 80.16 82.97 85.78 88.59\n",
       "  * Z        (Z) float64 -25.0 -85.0 -170.0 ... -3.575e+03 -4.19e+03 -4.855e+03\n",
       "  * time     (time) float64 2.239e+11 2.239e+11 2.24e+11 ... 2.252e+11 2.252e+11\n",
       "Attributes:\n",
       "    description:  User-Defined Model-Level Diagnostic  #1\n",
       "    units:        user-defined"
      ]
     },
     "execution_count": 8,
     "metadata": {},
     "output_type": "execute_result"
    }
   ],
   "source": [
    "ds['DICPFLX']"
   ]
  },
  {
   "cell_type": "code",
   "execution_count": 9,
   "id": "bd2ce022-3f66-46e7-a14d-ae8a3ddf6f2e",
   "metadata": {},
   "outputs": [
    {
     "data": {
      "text/plain": [
       "53.69088516"
      ]
     },
     "execution_count": 9,
     "metadata": {},
     "output_type": "execute_result"
    }
   ],
   "source": [
    "ds.nbytes/1e9"
   ]
  },
  {
   "cell_type": "code",
   "execution_count": 10,
   "id": "dfc81a30-a92d-47ad-ba89-ba16ca9b0eef",
   "metadata": {},
   "outputs": [],
   "source": [
    "xgcmgrd = se.create_periodic_grid(ds)"
   ]
  },
  {
   "cell_type": "code",
   "execution_count": 11,
   "id": "f16f73da-7a0a-41b9-b7ab-cc3d8a7b6756",
   "metadata": {},
   "outputs": [],
   "source": [
    "tub = sd.OceData(ds)"
   ]
  },
  {
   "cell_type": "code",
   "execution_count": 12,
   "id": "b9158f2b-5993-4405-9362-8d8136b991af",
   "metadata": {},
   "outputs": [],
   "source": [
    "c_center = np.array(ds['TRAC01'])\n",
    "p_center = np.array(ds['TRAC03'])\n",
    "c_center[c_center==0] = np.nan\n",
    "p_center[p_center==0] = np.nan"
   ]
  },
  {
   "cell_type": "code",
   "execution_count": 13,
   "id": "3b5de4a9-f801-42b4-b2ad-13698b87a445",
   "metadata": {},
   "outputs": [],
   "source": [
    "c_impl = np.array(ds['DIC'][1:])\n",
    "p_impl = np.array(ds['PO4'][1:])"
   ]
  },
  {
   "cell_type": "code",
   "execution_count": 14,
   "id": "987b9607-7117-438b-9194-44fb987ba7a3",
   "metadata": {},
   "outputs": [],
   "source": [
    "ds['utrans'] = ds['UVELMASS']*ds['drF']*ds['dyG']\n",
    "ds['vtrans'] = ds['VVELMASS']*ds['drF']*ds['dxG']\n",
    "ds['wtrans'] = ds['WVELMASS']*ds['rA']"
   ]
  },
  {
   "cell_type": "code",
   "execution_count": 15,
   "id": "8d3d39b6-5b25-4180-a136-a2749e58b294",
   "metadata": {},
   "outputs": [],
   "source": [
    "rax_buffer = se.buffer_x_periodic(np.array(ds['rA']), 0,1)\n",
    "ray_buffer = se.buffer_y_periodic(np.array(ds['rA']), 0,1)"
   ]
  },
  {
   "cell_type": "code",
   "execution_count": 16,
   "id": "74f46c6e-d029-46ca-b555-56b1f9fe6b3a",
   "metadata": {},
   "outputs": [],
   "source": [
    "u_cfl = np.nan_to_num(np.array(ds['UVELMASS']*ds['dyG']/rax_buffer))\n",
    "v_cfl = np.nan_to_num(np.array(ds['VVELMASS']*ds['dxG']/ray_buffer))\n",
    "w_cfl = np.nan_to_num(np.array(ds['WVELMASS']).transpose(1,0,2,3).T/np.array(ds['drF'])).T.transpose(1,0,2,3)"
   ]
  },
  {
   "cell_type": "code",
   "execution_count": 17,
   "id": "13d6b217-5bbb-4c0a-bfd9-2ebf3200f5d9",
   "metadata": {},
   "outputs": [],
   "source": [
    "out = xr.Dataset()"
   ]
  },
  {
   "cell_type": "code",
   "execution_count": 18,
   "id": "26f72822-1960-4686-a0d6-c08eabffa320",
   "metadata": {},
   "outputs": [
    {
     "name": "stderr",
     "output_type": "stream",
     "text": [
      "\n",
      "KeyboardInterrupt\n",
      "\n"
     ]
    }
   ],
   "source": [
    "out['cwallx'] = xr.DataArray(se.second_order_flux_limiter_x(c_center,u_cfl),dims = ('time','Z','Y','Xp1'))\n",
    "out['cwally'] = xr.DataArray(se.second_order_flux_limiter_y(c_center,v_cfl),dims = ('time','Z','Yp1','X'))\n",
    "out['cwallz'] = xr.DataArray(se.second_order_flux_limiter_z_withoutface(c_impl,w_cfl),dims = ('time','Zl','Y','X'))\n",
    "# out['cwallz'] = xr.DataArray(se.second_order_flux_limiter_z_withoutface(c_center,w_cfl),dims = ('time','Zl','Y','X'))"
   ]
  },
  {
   "cell_type": "code",
   "execution_count": null,
   "id": "4fee7a12-7944-40d0-a24c-33e7804c76a6",
   "metadata": {},
   "outputs": [],
   "source": [
    "tp.ind_tend()"
   ]
  },
  {
   "cell_type": "code",
   "execution_count": null,
   "id": "5da1f00d-75ba-456f-b5a0-04b23a1b8419",
   "metadata": {},
   "outputs": [],
   "source": [
    "right_ind = tuple([neo.iz-1]+ list(tp.ind_tend_vec((neo.iy, neo. ix), np.ones(len(neo.nprof))*3)))"
   ]
  },
  {
   "cell_type": "code",
   "execution_count": null,
   "id": "a65a6d5b-d6b3-43c3-9f9c-5aeafc4afbb4",
   "metadata": {},
   "outputs": [],
   "source": [
    "out['pwallx'] = xr.DataArray(se.second_order_flux_limiter_x(p_center,u_cfl),dims = ('time','Z','Y','Xp1'))\n",
    "out['pwally'] = xr.DataArray(se.second_order_flux_limiter_y(p_center,v_cfl),dims = ('time','Z','Yp1','X'))\n",
    "out['pwallz'] = xr.DataArray(se.second_order_flux_limiter_z_withoutface(p_center,w_cfl),dims = ('time','Zl','Y','X'))"
   ]
  },
  {
   "cell_type": "code",
   "execution_count": null,
   "id": "36b1556b-e5dc-4d14-9cb1-a7cfd6fd1cf5",
   "metadata": {},
   "outputs": [],
   "source": [
    "tub['DFrATr01'] = tub['DFrITr01']+tub['DFrETr01']\n",
    "out[\"c_adv\"]   = xr.DataArray(se.total_div(tub, xgcmgrd, 'ADVxTr01', 'ADVyTr01', 'ADVrTr01'),dims = ('time','Z','Y','X'))\n",
    "out[\"c_dif_h\"] = xr.DataArray(se.hor_div(tub, xgcmgrd, 'DFxETr01', 'DFyETr01'),dims = ('time','Z','Y','X'))\n",
    "out[\"c_dif_v\"] = xr.DataArray(se.ver_div(tub, xgcmgrd, 'DFrATr01'),dims = ('time','Z','Y','X'))"
   ]
  },
  {
   "cell_type": "code",
   "execution_count": null,
   "id": "8da71951-c20b-4814-8f51-ce855461d85b",
   "metadata": {},
   "outputs": [],
   "source": [
    "out['c_adv'][:,0] -= (ds.WTRAC01.isel(Z = 0))/ds.drF[0]"
   ]
  },
  {
   "cell_type": "code",
   "execution_count": null,
   "id": "203f2275-52d7-471f-a38f-0180d0a8f20d",
   "metadata": {},
   "outputs": [],
   "source": [
    "out['forc_c'] = ds.ForcTr01"
   ]
  },
  {
   "cell_type": "code",
   "execution_count": null,
   "id": "bc55a5ed-9ff9-40db-a1a0-3654a0ce7c88",
   "metadata": {},
   "outputs": [],
   "source": [
    "tub['DFrATr03'] = tub['DFrITr03']+tub['DFrETr03']\n",
    "out[\"p_adv\"]   = xr.DataArray(se.total_div(tub, xgcmgrd, 'ADVxTr03', 'ADVyTr03', 'ADVrTr03'),dims = ('time','Z','Y','X'))\n",
    "out[\"p_dif_h\"] = xr.DataArray(se.hor_div(tub, xgcmgrd, 'DFxETr03', 'DFyETr03'),dims = ('time','Z','Y','X'))\n",
    "out[\"p_dif_v\"] = xr.DataArray(se.ver_div(tub, xgcmgrd, 'DFrATr03'),dims = ('time','Z','Y','X'))"
   ]
  },
  {
   "cell_type": "code",
   "execution_count": null,
   "id": "7d19ae1d-0e87-4d6d-8bd5-169771a43817",
   "metadata": {},
   "outputs": [],
   "source": [
    "out['p_adv'][:,0] -= (ds.WTRAC03.isel(Z = 0))/ds.drF[0]"
   ]
  },
  {
   "cell_type": "code",
   "execution_count": null,
   "id": "42d11caa-40e6-4543-bf9a-3d41bc9921d7",
   "metadata": {},
   "outputs": [],
   "source": [
    "out['forc_p'] = ds.ForcTr03"
   ]
  },
  {
   "cell_type": "code",
   "execution_count": null,
   "id": "dd033bc2-4bf8-4117-938c-cbf6676ff7da",
   "metadata": {},
   "outputs": [],
   "source": [
    "it = 0\n",
    "iz = 0\n",
    "plt.pcolormesh((ds.Tp_gTr01-out['c_dif_h']-out['c_dif_v']-out['c_adv']-out['forc_c'])[it,iz])\n",
    "plt.colorbar()"
   ]
  },
  {
   "cell_type": "code",
   "execution_count": null,
   "id": "176217a5-b5d6-49e0-82a6-5c92f5e60189",
   "metadata": {},
   "outputs": [],
   "source": [
    "it = 0\n",
    "iz = 0\n",
    "plt.pcolormesh((ds.Tp_gTr03-out['p_dif_h']-out['p_dif_v']-out['p_adv']-out['forc_p'])[it,iz])\n",
    "plt.colorbar()"
   ]
  },
  {
   "cell_type": "code",
   "execution_count": null,
   "id": "0ceecdd8-0bc3-4b9f-87ed-38dee30ac5a6",
   "metadata": {},
   "outputs": [],
   "source": [
    "it = 0\n",
    "iz = 10\n",
    "plt.pcolormesh((ds.Tp_gTr01-out['c_dif_h']-out['c_dif_v']-out['c_adv']-out['forc_c'])[it,iz])\n",
    "plt.colorbar()"
   ]
  },
  {
   "cell_type": "code",
   "execution_count": null,
   "id": "d9d0b4b5-7e99-462b-8d2d-bc0e85ef159c",
   "metadata": {},
   "outputs": [],
   "source": [
    "it = 0\n",
    "iz = 10\n",
    "plt.pcolormesh((ds.Tp_gTr03-out['p_dif_h']-out['p_dif_v']-out['p_adv']-out['forc_p'])[it,iz])\n",
    "plt.colorbar()"
   ]
  },
  {
   "cell_type": "code",
   "execution_count": null,
   "id": "250decca-4ad5-4ba6-a465-ea6c10ba0ec4",
   "metadata": {},
   "outputs": [],
   "source": [
    "Rcp = 117\n",
    "dt = 5*86400"
   ]
  },
  {
   "cell_type": "code",
   "execution_count": null,
   "id": "209162e2-f438-43f2-8237-b2e30aa16080",
   "metadata": {},
   "outputs": [],
   "source": [
    "out['tend_c'] = xr.DataArray(ds.DIC.diff('time_outer').data/dt, dims = ('time','Z','Y','X'))\n",
    "out['tend_p'] = xr.DataArray(ds.PO4.diff('time_outer').data/dt, dims = ('time','Z','Y','X'))"
   ]
  },
  {
   "cell_type": "code",
   "execution_count": null,
   "id": "021f5584-8c80-431c-a7e7-b212b1fb60e8",
   "metadata": {},
   "outputs": [],
   "source": [
    "out['s_c'] = out['tend_c'] - ds.Tp_gTr01\n",
    "out['s_p'] = out['tend_p'] - ds.Tp_gTr03"
   ]
  },
  {
   "cell_type": "code",
   "execution_count": null,
   "id": "a562d72a-e25c-4456-b0db-9fdbc77e96d4",
   "metadata": {},
   "outputs": [],
   "source": [
    "out['diccarb'] = ds.DICCARB\n",
    "out['dictflx'] = xr.zeros_like(out['diccarb'])\n",
    "out['dictflx'][:,0] = ds.DICTFLX"
   ]
  },
  {
   "cell_type": "code",
   "execution_count": null,
   "id": "0aa7c816-03ad-47a4-b03c-9073f77cfd01",
   "metadata": {},
   "outputs": [],
   "source": [
    "iz = 1\n",
    "it = 2\n",
    "vmax = 1e-12\n",
    "plt.pcolormesh(out['tend_c'][it,iz]-ds.Tp_gTr01[it,iz]-Rcp*out['s_p'][it,iz]-out['diccarb'][it,iz] - out['dictflx'][it,iz],vmax = vmax,vmin = -vmax,cmap = 'bwr')\n",
    "plt.colorbar()"
   ]
  },
  {
   "cell_type": "code",
   "execution_count": null,
   "id": "f1b656db-6214-424b-a4e8-099d84e69c96",
   "metadata": {},
   "outputs": [],
   "source": [
    "iz = 1\n",
    "it = 2\n",
    "vmax = 1e-25\n",
    "plt.pcolormesh(out['tend_p'][it,iz]-ds.Tp_gTr03[it,iz]-out['s_p'][it,iz],vmax = vmax,vmin = -vmax,cmap = 'bwr')\n",
    "plt.colorbar()"
   ]
  },
  {
   "cell_type": "code",
   "execution_count": null,
   "id": "e3d7933c-6546-45c4-8de9-8cf15ef56a30",
   "metadata": {},
   "outputs": [],
   "source": [
    "out['dicpflx'] = ds['DICPFLX']\n",
    "out['dicbioa'] = ds['DICBIOA']\n",
    "out['dicrdop'] = ds['DICRDOP']#out['s_p'] - out['dicpflx'] +out['dicbioa']"
   ]
  },
  {
   "cell_type": "code",
   "execution_count": null,
   "id": "fd3b423f-4ba7-4e6d-9bd8-c8f0dd9b5163",
   "metadata": {},
   "outputs": [],
   "source": [
    "iz = 10\n",
    "it = 2\n",
    "vmax = 1e-15\n",
    "plt.pcolormesh(out['s_p'][it,iz]+out['dicbioa'][it,iz] - out['dicpflx'][it,iz] - out['dicrdop'][it,iz],vmax = vmax,vmin = -vmax,cmap = 'bwr')\n",
    "plt.colorbar()"
   ]
  },
  {
   "cell_type": "code",
   "execution_count": null,
   "id": "fab1a9f8-6d2f-4d89-abd8-a56743a1adc8",
   "metadata": {},
   "outputs": [],
   "source": [
    "# iz = 0\n",
    "# it = 2\n",
    "# vmax = 1e-10\n",
    "# plt.pcolormesh(out['dicrdop'][it,iz],vmax = vmax,vmin = -vmax,cmap = 'bwr')\n",
    "# plt.colorbar()"
   ]
  },
  {
   "cell_type": "code",
   "execution_count": null,
   "id": "931687cc-ec59-436a-a209-0b4ac73f1971",
   "metadata": {},
   "outputs": [],
   "source": [
    "# iz = 1\n",
    "# it = 2\n",
    "# vmax = 10\n",
    "# plt.pcolormesh(ds['DICBIOA'][it,iz]/out['dicrdop'][it,iz],vmax = vmax,vmin = -vmax,cmap = 'bwr')\n",
    "# plt.colorbar()"
   ]
  },
  {
   "cell_type": "code",
   "execution_count": null,
   "id": "fb2b6179-9d7c-41f3-a330-b211a5c6d807",
   "metadata": {},
   "outputs": [],
   "source": [
    "out['res_x_c'] = out['cwallx']*ds['utrans']\n",
    "out['res_y_c'] = out['cwally']*ds['vtrans']\n",
    "out['res_z_c'] = out['cwallz']*ds['wtrans']"
   ]
  },
  {
   "cell_type": "code",
   "execution_count": null,
   "id": "146608b1-3076-4079-8039-37ff7e8e2f5c",
   "metadata": {},
   "outputs": [],
   "source": [
    "out[\"c_res_adv\"] = xr.DataArray(se.total_div(tub, xgcmgrd, 'res_x_c', 'res_y_c', 'res_z_c'),dims = ('time','Z','Y','X'))"
   ]
  },
  {
   "cell_type": "code",
   "execution_count": null,
   "id": "b48b151d-ec02-4d3a-8e8b-6fbf4698d185",
   "metadata": {},
   "outputs": [],
   "source": [
    "out['res_x_p'] = out['pwallx']*ds['utrans']\n",
    "out['res_y_p'] = out['pwally']*ds['vtrans']\n",
    "out['res_z_p'] = out['pwallz']*ds['wtrans']"
   ]
  },
  {
   "cell_type": "code",
   "execution_count": null,
   "id": "8e21fb87-321e-467d-9eba-200765966a8b",
   "metadata": {},
   "outputs": [],
   "source": [
    "out[\"p_res_adv\"] = xr.DataArray(se.total_div(tub, xgcmgrd, 'res_x_p', 'res_y_p', 'res_z_p'),dims = ('time','Z','Y','X'))"
   ]
  },
  {
   "cell_type": "code",
   "execution_count": null,
   "id": "4e9505ee-3577-4cd0-8213-6a6634e77f73",
   "metadata": {},
   "outputs": [],
   "source": [
    "out[\"e_ua_c\"] = out['c_adv']-out['c_res_adv']\n",
    "out[\"e_ua_p\"] = out['p_adv']-out['p_res_adv']"
   ]
  },
  {
   "cell_type": "code",
   "execution_count": null,
   "id": "f6dcd249-08b1-4ae7-b08c-2257989d4114",
   "metadata": {},
   "outputs": [],
   "source": [
    "iz = 0\n",
    "it = 1\n",
    "vmax = 5e-9\n",
    "plt.pcolormesh(out['c_res_adv'][it,iz],vmax = vmax,vmin = -vmax,cmap = 'bwr')\n",
    "plt.colorbar()"
   ]
  },
  {
   "cell_type": "code",
   "execution_count": null,
   "id": "419f769d-a632-419b-9adb-40fb163d0afd",
   "metadata": {},
   "outputs": [],
   "source": [
    "# iz = 1\n",
    "# it = 1\n",
    "# vmax = 5e-9\n",
    "# plt.pcolormesh(out['c_adv'][it,iz],vmax = vmax,vmin = -vmax,cmap = 'bwr')\n",
    "# plt.colorbar()"
   ]
  },
  {
   "cell_type": "code",
   "execution_count": null,
   "id": "695a413e-8508-49ef-89ce-f18fd53e3008",
   "metadata": {},
   "outputs": [],
   "source": [
    "# iz = 0\n",
    "# it = 1\n",
    "# vmax = 5e-9\n",
    "# plt.pcolormesh(out['dictflx'][it,iz],vmax = vmax,vmin = -vmax,cmap = 'bwr')\n",
    "# plt.colorbar()"
   ]
  },
  {
   "cell_type": "code",
   "execution_count": null,
   "id": "fbb853dc-2143-4dcb-8eec-258af08ce755",
   "metadata": {},
   "outputs": [],
   "source": [
    "# iz = 0\n",
    "# it = 2\n",
    "# vmax = 5e-11\n",
    "# plt.pcolormesh(out['dicrdop'][it,iz],vmax = vmax,vmin = -vmax,cmap = 'bwr')\n",
    "# plt.colorbar()"
   ]
  },
  {
   "cell_type": "code",
   "execution_count": null,
   "id": "094f421c-09ec-4cfb-8b8a-7c6ca60fc0df",
   "metadata": {},
   "outputs": [],
   "source": [
    "iz = 0\n",
    "it = 1\n",
    "vmax = 5e-12\n",
    "plt.pcolormesh(out['e_ua_p'][it,iz],vmax = vmax,vmin = -vmax,cmap = 'bwr')\n",
    "plt.colorbar()"
   ]
  },
  {
   "cell_type": "code",
   "execution_count": null,
   "id": "e0ecbb65-388c-4d47-9328-8d1fe9e26cd8",
   "metadata": {},
   "outputs": [],
   "source": [
    "iz = 0\n",
    "it = 1\n",
    "vmax = 5e-10\n",
    "plt.pcolormesh(out['e_ua_c'][it,iz],vmax = vmax,vmin = -vmax,cmap = 'bwr')\n",
    "plt.colorbar()"
   ]
  },
  {
   "cell_type": "code",
   "execution_count": null,
   "id": "7be17494-f312-4d36-816b-4836b3edbb80",
   "metadata": {},
   "outputs": [],
   "source": [
    "out = out.chunk({'time':20,\"Z\": 15,\"Y\": 64,\"X\": 128,\"Zl\": 15,\"Xp1\": 129,\"Yp1\": 65,})"
   ]
  },
  {
   "cell_type": "code",
   "execution_count": null,
   "id": "de09117a-39c0-4be7-8df3-0cc2bf6826d9",
   "metadata": {},
   "outputs": [],
   "source": [
    "out.to_zarr('/sciserver/filedb02-02/ocean/wenrui_temp/dic_exp/bgc_tutorial_budget.zarr',mode = 'w')"
   ]
  },
  {
   "cell_type": "code",
   "execution_count": null,
   "id": "17ae2dc5-af0d-49a7-9d36-dec7bf2150ab",
   "metadata": {},
   "outputs": [],
   "source": [
    "thing = np.array(out['s_p'][0])\n",
    "thing[thing==0] = np.nan\n",
    "sec = np.nanmean(thing,axis = -1)\n",
    "\n",
    "vmax = 1e-12\n",
    "plt.pcolormesh(ds.Y,ds.Z,sec,vmax = vmax, vmin = -vmax, cmap = 'bwr')\n",
    "plt.xlim(-90,90)\n",
    "plt.ylim(-4000,0)\n",
    "plt.colorbar()"
   ]
  },
  {
   "cell_type": "code",
   "execution_count": null,
   "id": "5503525b-a596-4664-b70f-c6edb147a12e",
   "metadata": {},
   "outputs": [],
   "source": [
    "thing = np.array(out['dicpflx'][0])\n",
    "thing[thing==0] = np.nan\n",
    "sec = np.nanmean(thing,axis = -1)\n",
    "\n",
    "vmax = 1e-12\n",
    "plt.pcolormesh(ds.Y,ds.Z,sec,vmax = vmax, vmin = -vmax, cmap = 'bwr')\n",
    "plt.xlim(-90,90)\n",
    "plt.ylim(-4000,0)\n",
    "plt.colorbar()"
   ]
  },
  {
   "cell_type": "code",
   "execution_count": null,
   "id": "1df296a4-3b3d-4b1f-bac2-e38a8cc85367",
   "metadata": {},
   "outputs": [],
   "source": [
    "thing = np.array(out['dicrdop'][0])\n",
    "thing[thing==0] = np.nan\n",
    "sec = np.nanmean(thing,axis = -1)\n",
    "\n",
    "vmax = 1e-12\n",
    "plt.pcolormesh(ds.Y,ds.Z,sec,vmax = vmax, vmin = -vmax, cmap = 'bwr')\n",
    "plt.xlim(-90,90)\n",
    "plt.ylim(-4000,0)\n",
    "plt.colorbar()"
   ]
  },
  {
   "cell_type": "code",
   "execution_count": null,
   "id": "1a35b377-7b96-47b0-82d3-e7b61dddec0c",
   "metadata": {},
   "outputs": [],
   "source": [
    "thing = np.array(-out['dicbioa'][0])\n",
    "thing[thing==0] = np.nan\n",
    "sec = np.nanmean(thing,axis = -1)\n",
    "\n",
    "vmax = 1e-10\n",
    "plt.pcolormesh(ds.Y,ds.Z,sec,vmax = vmax, vmin = -vmax, cmap = 'bwr')\n",
    "plt.xlim(-90,90)\n",
    "plt.ylim(-4000,0)\n",
    "plt.colorbar()"
   ]
  },
  {
   "cell_type": "code",
   "execution_count": null,
   "id": "021042a0-405d-41e9-9d94-d2d14709caf7",
   "metadata": {},
   "outputs": [],
   "source": [
    "# plt.pcolormesh(dis_v[1,1])\n",
    "# plt.colorbar()"
   ]
  },
  {
   "cell_type": "code",
   "execution_count": null,
   "id": "687794b9-4023-430b-b632-0811ca05b888",
   "metadata": {},
   "outputs": [],
   "source": [
    "# it = 0\n",
    "# iz = 4\n",
    "# plt.pcolormesh((ds.Tp_gTr03-p_dif_h-p_dif_v-p_adv-ds.ForcTr03)[it,iz])\n",
    "# plt.colorbar()"
   ]
  },
  {
   "cell_type": "code",
   "execution_count": null,
   "id": "286a13d7-6a28-4dc6-a305-7ba27c38c493",
   "metadata": {},
   "outputs": [],
   "source": [
    "# vol = ds.rA*ds.drF*(ds.HFacC).fillna(0)\n",
    "\n",
    "# adv_h = xgcmgrd.diff(ds['ADVxTr01'],axis = 'X')+ xgcmgrd.diff(ds['ADVyTr01'],axis = 'Y')\n",
    "\n",
    "# adv_v = xgcmgrd.diff(ds['ADVrTr01'],axis = 'Z',boundary = 'fill',fill_value = '0')\n",
    "\n",
    "# adv = -adv_h+adv_v\n",
    "\n",
    "# dif = -xgcmgrd.diff(ds['DFxETr01'],axis = 'X')-xgcmgrd.diff(ds['DFyETr01'],axis = 'Y')+xgcmgrd.diff(ds['DFrETr01']+ds['DFrITr01'],axis = 'Z',boundary = 'fill',fill_value = '0')\n",
    "\n",
    "# vmax = 1e-13\n",
    "# plt.pcolormesh((ds.Tp_gTr01-dif/vol-adv/vol-ds.ForcTr01)[2,3],vmax = vmax,vmin = -vmax,cmap = 'bwr')\n",
    "# plt.colorbar()"
   ]
  },
  {
   "cell_type": "code",
   "execution_count": null,
   "id": "5e21ce95-d34b-4d3b-9f66-f363223ee4fb",
   "metadata": {},
   "outputs": [],
   "source": [
    "# adv_h = xgcmgrd.diff(ds['ADVxTr01'],axis = 'X')+ xgcmgrd.diff(ds['ADVyTr01'],axis = 'Y')\n",
    "\n",
    "# adv_v = xgcmgrd.diff(ds['ADVrTr01'],axis = 'Z',boundary = 'fill',fill_value = '0')\n",
    "\n",
    "# adv = -adv_h+adv_v\n",
    "\n",
    "# c_adv_h = se.hor_div(tub, xgcmgrd,'ADVxTr01', 'ADVyTr01')\n",
    "\n",
    "# c_adv_v = se.ver_div(tub, xgcmgrd,'ADVrTr01')\n",
    "\n",
    "# dis_h = c_adv_h + adv_h/tub['Vol']\n",
    "\n",
    "# dis_v = c_adv_v - adv_v/tub['Vol']\n",
    "\n",
    "\n",
    "\n",
    "# dis = (adv/tub['Vol']-out['c_adv'])\n",
    "\n",
    "# plt.pcolormesh(dis[2,10])\n",
    "# plt.colorbar()\n",
    "\n",
    "# plt.pcolormesh(dis_h[1,1])\n",
    "# plt.colorbar()"
   ]
  },
  {
   "cell_type": "code",
   "execution_count": null,
   "id": "1742c95b-3bfe-404f-b9ac-81737d2f1864",
   "metadata": {},
   "outputs": [],
   "source": [
    "# mean_surf.values\n",
    "\n",
    "# mean_vel = (ds.WVELMASS.isel(Zl = 0)*ds.rA).sum(dim = ('X','Y')) / (ds.rA.sum())\n",
    "\n",
    "# mean_vel.values\n",
    "\n",
    "# plt.pcolormesh(ds.WVELMASS[0,0])\n",
    "# plt.colorbar()\n",
    "\n",
    "# plt.pcolormesh(ds.WTRAC01[0,0])\n",
    "# plt.colorbar()"
   ]
  }
 ],
 "metadata": {
  "kernelspec": {
   "display_name": "bubblebath",
   "language": "python",
   "name": "bubblebath"
  },
  "language_info": {
   "codemirror_mode": {
    "name": "ipython",
    "version": 3
   },
   "file_extension": ".py",
   "mimetype": "text/x-python",
   "name": "python",
   "nbconvert_exporter": "python",
   "pygments_lexer": "ipython3",
   "version": "3.12.0"
  }
 },
 "nbformat": 4,
 "nbformat_minor": 5
}
