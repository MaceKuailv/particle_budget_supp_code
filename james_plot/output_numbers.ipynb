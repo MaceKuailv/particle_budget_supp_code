{
 "cells": [
  {
   "cell_type": "code",
   "execution_count": 1,
   "id": "950b4679-185f-401f-8849-ca750bb34878",
   "metadata": {},
   "outputs": [],
   "source": [
    "import xarray as xr\n",
    "import numpy as np"
   ]
  },
  {
   "cell_type": "code",
   "execution_count": 13,
   "id": "5d0dc3d5-8953-4142-a463-0d42a53545bc",
   "metadata": {},
   "outputs": [],
   "source": [
    "import matplotlib.pyplot as plt"
   ]
  },
  {
   "cell_type": "code",
   "execution_count": 2,
   "id": "7b7a5fec-74cc-48db-a611-1e878df881cc",
   "metadata": {},
   "outputs": [
    {
     "name": "stderr",
     "output_type": "stream",
     "text": [
      "/home/wjiang33/miniconda3/envs/bubblebath/lib/python3.12/site-packages/xarray/core/indexing.py:1446: PerformanceWarning: Slicing with an out-of-order index is generating 26 times more chunks\n",
      "  return self.array[key]\n",
      "WARNING:root:Setting the surface velocity to zero. Dataset might be modified. \n"
     ]
    }
   ],
   "source": [
    "import numpy as np\n",
    "from open4dense import give_me_orig_ecco\n",
    "# import oceanspy as ospy\n",
    "import seaduck as sd\n",
    "import xarray as xr\n",
    "from seaduck.get_masks import which_not_stuck\n",
    "import os \n",
    "# import sys\n",
    "# int_arg = int(sys.argv[-1])\n",
    "# print('got sys parameter:',int_arg)\n",
    "int_arg = 0\n",
    "\n",
    "filedb_lst = []\n",
    "for i in range(1,13):\n",
    "    for j in range(1,4):\n",
    "        filedb_lst.append(f'/sciserver/filedb{i:02}-0{j}')\n",
    "\n",
    "seed = 2011\n",
    "\n",
    "save_path = filedb_lst[9+int_arg]+'/ocean/wenrui_temp/particle_file/WA/nc_new/'\n",
    "path = '/sciserver/filedb02-02/ocean/wenrui_temp/heat/'\n",
    "\n",
    "ds = give_me_orig_ecco()\n",
    "ds['utrans'] = (ds['u_gm']+ds['UVELMASS'])*ds.dyG*ds.drF\n",
    "ds['vtrans'] = (ds['v_gm']+ds['VVELMASS'])*ds.dxG*ds.drF\n",
    "ds['wtrans'] = (ds['w_gm']+ds['WVELMASS'])*ds.rA\n",
    "tseas1 = xr.open_zarr(path+'tseas1.zarr')\n",
    "tseas2 = xr.open_zarr(path+'tseas2.zarr')\n",
    "tseas3 = xr.open_zarr(path+'tseas3.zarr')\n",
    "tseas = xr.concat([tseas1,tseas2,tseas3],dim = 'dayofyear')\n",
    "ta = (ds.THETA.groupby('time.dayofyear') - tseas).transpose('time','Z','face','Y','X').THETA\n",
    "\n",
    "tub = sd.OceData(ds)\n",
    "\n",
    "time = '2011-03-01'\n",
    "t = sd.utils.convert_time(time)\n",
    "end_time = t-365*86400*1.1\n",
    "stops = np.array([end_time])\n",
    "\n",
    "ylim = (-35,-22.5)\n",
    "xlim = (100,120)\n",
    "\n",
    "xbool = np.logical_and(ds.XC>xlim[0],ds.XC<xlim[1])\n",
    "ybool = np.logical_and(ds.YC>ylim[0],ds.YC<ylim[1])\n",
    "zbool = ds.Z>-50\n",
    "pos_bool = np.logical_and(np.logical_and(xbool,ybool),zbool)\n",
    "warm_bool = ta.sel(time = time)[0]>1.5\n",
    "those = np.logical_and(warm_bool,pos_bool)\n",
    "\n",
    "p = sd.Particle(\n",
    "    bool_array=those, num=10000, random_seed=seed,\n",
    "    t = t,\n",
    "    data = tub, free_surface = 'noflux',\n",
    "    save_raw = True,\n",
    "    uname = 'utrans',vname = 'vtrans',wname = 'wtrans',\n",
    "    transport  = True\n",
    ")\n",
    "p=p.subset(sd.get_masks.which_not_stuck(p))"
   ]
  },
  {
   "cell_type": "code",
   "execution_count": 14,
   "id": "268bc885-154b-458c-a0aa-da69b77c618c",
   "metadata": {},
   "outputs": [
    {
     "name": "stdout",
     "output_type": "stream",
     "text": [
      "36326.921469952\n"
     ]
    }
   ],
   "source": [
    "total_volume_heat = float((tub.Vol*those).sum())/1e9\n",
    "print(total_volume_dic)"
   ]
  },
  {
   "cell_type": "code",
   "execution_count": 17,
   "id": "0cec9aa7-e931-4059-9142-227ed707b4ef",
   "metadata": {},
   "outputs": [
    {
     "data": {
      "text/plain": [
       "10009"
      ]
     },
     "execution_count": 17,
     "metadata": {},
     "output_type": "execute_result"
    }
   ],
   "source": [
    "p.N"
   ]
  },
  {
   "cell_type": "code",
   "execution_count": 19,
   "id": "c25467b8-2a10-4a7c-b019-d65644e77e50",
   "metadata": {},
   "outputs": [
    {
     "name": "stdout",
     "output_type": "stream",
     "text": [
      "3.6294256638976923\n"
     ]
    }
   ],
   "source": [
    "volume_each_heat = total_volume_heat/p.N\n",
    "print(volume_each_heat)"
   ]
  },
  {
   "cell_type": "code",
   "execution_count": 23,
   "id": "a5eb818e-e8be-4b99-bbd5-da18dc031aed",
   "metadata": {},
   "outputs": [],
   "source": [
    "ds = xr.open_zarr('/sciserver/filedb02-02/ocean/wenrui_temp/dic_exp/bgc_tutorial.zarr')\n",
    "ds['utrans'] = ds['UVELMASS']*ds['drF']*ds['dyG']\n",
    "ds['vtrans'] = ds['VVELMASS']*ds['drF']*ds['dxG']\n",
    "ds['wtrans'] = ds['WVELMASS']*ds['rA']\n",
    "wmean = ds.WVELMASS.mean(dim = 'time').persist()\n",
    "wtemp = np.zeros((16,64,128))\n",
    "wtemp[:15] = wmean.data\n",
    "vert = (wtemp[1:]+wtemp[:-1])/2\n",
    "vert = xr.DataArray(vert,dims = ('Z','Y','X'))\n",
    "ymask = np.logical_and(ds.Y>-90,ds.Y<-45)\n",
    "zmask = np.logical_and(ds.Z>-1080,ds.Z<0)\n",
    "smask = np.logical_and(vert>0,True)#np.logical_or(rhom<27.1,rhom>27.5))\n",
    "# smask = np.logical_and(vert>0,True)\n",
    "mask = np.logical_and(np.logical_and(smask,ymask),zmask)\n",
    "tub = sd.OceData(ds)\n",
    "tf = float(ds.time[0])\n",
    "t0 = float(ds.time[-1])\n",
    "pt = sd.Particle(\n",
    "    bool_array=mask, num=10000, random_seed=712,\n",
    "    t = tf,\n",
    "    data = tub, free_surface = 'kick_back',\n",
    "    save_raw = True,\n",
    "    uname = 'utrans',vname = 'vtrans',wname = 'wtrans',\n",
    "    transport = True\n",
    ")"
   ]
  },
  {
   "cell_type": "code",
   "execution_count": 24,
   "id": "227fdc3c-9df7-4501-a4e1-a9b3ccb113ba",
   "metadata": {},
   "outputs": [
    {
     "name": "stdout",
     "output_type": "stream",
     "text": [
      "40437212.22700438\n"
     ]
    }
   ],
   "source": [
    "total_volume_heat = float((tub.Vol*mask).sum())/1e9\n",
    "print(total_volume_heat)"
   ]
  },
  {
   "cell_type": "code",
   "execution_count": 26,
   "id": "41126180-a0fc-4d6b-9474-e16364be782a",
   "metadata": {},
   "outputs": [
    {
     "data": {
      "text/plain": [
       "10196"
      ]
     },
     "execution_count": 26,
     "metadata": {},
     "output_type": "execute_result"
    }
   ],
   "source": [
    "pt.N"
   ]
  },
  {
   "cell_type": "code",
   "execution_count": 27,
   "id": "8215bcd4-b565-41e9-b85c-7d4c68f5808c",
   "metadata": {},
   "outputs": [
    {
     "data": {
      "text/plain": [
       "3965.98786063205"
      ]
     },
     "execution_count": 27,
     "metadata": {},
     "output_type": "execute_result"
    }
   ],
   "source": [
    "total_volume_heat/pt.N"
   ]
  },
  {
   "cell_type": "code",
   "execution_count": 29,
   "id": "cb501344-cf7b-49f8-96a8-5f3c6f6eb527",
   "metadata": {},
   "outputs": [
    {
     "name": "stdout",
     "output_type": "stream",
     "text": [
      "-0.006311798550643893\n",
      "-0.0029345369271876025\n",
      "-0.0008244684332516168\n",
      "-0.0002864631279728903\n"
     ]
    }
   ],
   "source": [
    "pre = 'precalc/dic_'\n",
    "for name in ['lw','iw','dw','bw']:\n",
    "    mean = xr.open_zarr(pre+name+'mean')\n",
    "    print(float(mean['negbio'][-1]))"
   ]
  },
  {
   "cell_type": "code",
   "execution_count": null,
   "id": "c150679d-1508-478b-8c41-bc02186a5c4e",
   "metadata": {},
   "outputs": [],
   "source": []
  }
 ],
 "metadata": {
  "kernelspec": {
   "display_name": "Python 3 (ipykernel)",
   "language": "python",
   "name": "python3"
  },
  "language_info": {
   "codemirror_mode": {
    "name": "ipython",
    "version": 3
   },
   "file_extension": ".py",
   "mimetype": "text/x-python",
   "name": "python",
   "nbconvert_exporter": "python",
   "pygments_lexer": "ipython3",
   "version": "3.12.0"
  }
 },
 "nbformat": 4,
 "nbformat_minor": 5
}
